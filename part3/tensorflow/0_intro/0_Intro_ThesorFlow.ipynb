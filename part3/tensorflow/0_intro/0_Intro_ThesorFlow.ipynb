{
 "cells": [
  {
   "cell_type": "markdown",
   "metadata": {},
   "source": [
    "# TenorFlow 소개 및 실습 "
   ]
  },
  {
   "cell_type": "markdown",
   "metadata": {},
   "source": [
    "* 싸이그래머 / 지각CV : part 2 - tensorflow [1]\n",
    "* 김무성"
   ]
  },
  {
   "cell_type": "markdown",
   "metadata": {},
   "source": [
    "# Contents"
   ]
  },
  {
   "cell_type": "markdown",
   "metadata": {},
   "source": [
    "1. 설치 & 환경설정\n",
    "    - 1.1 Docker + Jupyter 기반 환경설정\n",
    "        - A. 간략버전\n",
    "        - B. 상세버전\n",
    "2. Gradient Descent 기법으로 인자 찾아내기\n",
    "3. Basic Usage\n",
    "    - Overview\n",
    "    - The computation graph\n",
    "    - Interactive Usage\n",
    "    - Tensors\n",
    "    - Variables\n",
    "    - Fetches\n",
    "    - Feeds"
   ]
  },
  {
   "cell_type": "markdown",
   "metadata": {},
   "source": [
    "# 1. 설치 & 환경설정 "
   ]
  },
  {
   "cell_type": "markdown",
   "metadata": {},
   "source": [
    "* 자세한 설치 & 기본환경 설정은 [1] https://gist.github.com/haje01/202ac276bace4b25dd3f 을 참조\n",
    "* 지금의 실습에서는 아래에 기술된 Docker + Jupyter 기반 환경을 따른다. "
   ]
  },
  {
   "cell_type": "markdown",
   "metadata": {},
   "source": [
    "## 1.1 Docker + Jupyter 기반 환경설정"
   ]
  },
  {
   "cell_type": "markdown",
   "metadata": {},
   "source": [
    "* A : 간략버전\n",
    "* B : 상세버전"
   ]
  },
  {
   "cell_type": "markdown",
   "metadata": {},
   "source": [
    "### A : 간략버전"
   ]
  },
  {
   "cell_type": "markdown",
   "metadata": {},
   "source": [
    "* A.1 docker toolbox 혹은 리눅스 등의 설치 환경 구축\n",
    "* A.2 실습용 도커 이미지 다운 & 컨테이너 실행"
   ]
  },
  {
   "cell_type": "markdown",
   "metadata": {},
   "source": [
    "#### A.1 docker toolbox 혹은 리눅스 등의 설치 환경 구축"
   ]
  },
  {
   "cell_type": "markdown",
   "metadata": {},
   "source": [
    "##### 다음 두 링크를 참조"
   ]
  },
  {
   "cell_type": "markdown",
   "metadata": {},
   "source": [
    "* https://gist.github.com/haje01/0fb6d63bf065c9831256\n",
    "* https://github.com/psygrammer/bayesianPy/blob/master/part4/pymc01/pymc_intro_install.ipynb"
   ]
  },
  {
   "cell_type": "markdown",
   "metadata": {},
   "source": [
    "#### A.2 실습용 도커 이미지 다운 & 컨테이너 실행"
   ]
  },
  {
   "cell_type": "code",
   "execution_count": null,
   "metadata": {
    "collapsed": true
   },
   "outputs": [],
   "source": [
    "docker pull psygrammer/tensorflow_basic\n",
    "docker run -d -p 8888:8888 -e GRANT_SUDO=yes --name run_tf psygrammer/tensorflow_basic"
   ]
  },
  {
   "cell_type": "markdown",
   "metadata": {},
   "source": [
    "### B : 상세버전"
   ]
  },
  {
   "cell_type": "markdown",
   "metadata": {},
   "source": [
    "* B.1 docker toolbox 혹은 리눅스 등의 설치 환경 구축\n",
    "* B.2 jupyter (ipython notebook) 도커 이미지 받음\n",
    "* B.3 컨테이너 실행\n",
    "* B.4 브라우저에서 노트북 접속\n",
    "* B.5 jupyter 노트북 환경에서 terminal 생성 & 접속\n",
    "* B.6 TensorFlow 설치 (터미널로 접속해서)"
   ]
  },
  {
   "cell_type": "markdown",
   "metadata": {},
   "source": [
    "B 과정은 A.2의 상세 버전이다. 이렇게 직접 구축해도 되지만, A.2의 psygrammer/tensorflow_basic 이미지에 다 반영되어 있음."
   ]
  },
  {
   "cell_type": "markdown",
   "metadata": {},
   "source": [
    "#### B.1 docker toolbox 혹은 리눅스 등의 설치 환경 구축"
   ]
  },
  {
   "cell_type": "markdown",
   "metadata": {},
   "source": [
    "B.1은 A.1과 동일"
   ]
  },
  {
   "cell_type": "markdown",
   "metadata": {},
   "source": [
    "#### B.2 jupyter (ipython notebook) 도커 이미지 받음"
   ]
  },
  {
   "cell_type": "code",
   "execution_count": null,
   "metadata": {
    "collapsed": true
   },
   "outputs": [],
   "source": [
    "docker pull jupyter/scipy-notebook"
   ]
  },
  {
   "cell_type": "markdown",
   "metadata": {},
   "source": [
    "* 다음의 문서를 참조한다. 컨테이너 실행 옵션들이 나옴 - https://github.com/jupyter/docker-stacks/tree/master/scipy-notebook"
   ]
  },
  {
   "cell_type": "markdown",
   "metadata": {},
   "source": [
    "#### B.3 컨테이너 실행"
   ]
  },
  {
   "cell_type": "code",
   "execution_count": null,
   "metadata": {
    "collapsed": true
   },
   "outputs": [],
   "source": [
    "# 슈도유저 권한주고(권장), \n",
    "# 별명도 붙여줬음(이건 옵션)\n",
    "# docker run -d -p [접속_포트]:8888 -e GRANT_SUDO=yes --name [컨테이너별명] jupyter/scipy-notebook\n",
    "docker run -d -p 8888:8888 -e GRANT_SUDO=yes --name run_tf jupyter/scipy-notebook"
   ]
  },
  {
   "cell_type": "markdown",
   "metadata": {},
   "source": [
    "#### B.4 브라우저에서 노트북 접속"
   ]
  },
  {
   "cell_type": "code",
   "execution_count": null,
   "metadata": {
    "collapsed": true
   },
   "outputs": [],
   "source": [
    "# http://docker_vm_ip:port/\n",
    "# docker_vm_ip는 도커툴박스의 경우는 고래 화면 뜰때 나오는 ip\n",
    "# 혹은 리눅스&맥의 경우 터미널에서 다음 명령어로 확인할 수 있다 : docker-machine ls\n",
    "http://192.168.99.100:8888"
   ]
  },
  {
   "cell_type": "markdown",
   "metadata": {},
   "source": [
    "<img src=\"https://camo.githubusercontent.com/a46f769976d514117f2bcdfab2add67823c9d164/68747470733a2f2f6769746875622e636f6d2f7073796772616d6d65722f626179657369616e50792f7261772f643564333766636137666438663431343434633965633032636364323632643432626534333262342f70617274342f70796d6330312f666967757265732f636170312e706e67\" width=600 />"
   ]
  },
  {
   "cell_type": "markdown",
   "metadata": {},
   "source": [
    "#### B.5 jupyter 노트북 환경에서 terminal 생성 & 접속"
   ]
  },
  {
   "cell_type": "markdown",
   "metadata": {},
   "source": [
    "<img src=\"https://camo.githubusercontent.com/a935555f8329ea21cf1636613f6a418a0701606f/68747470733a2f2f6769746875622e636f6d2f7073796772616d6d65722f626179657369616e50792f7261772f643564333766636137666438663431343434633965633032636364323632643432626534333262342f70617274342f70796d6330312f666967757265732f636170322e706e67\" width=600 />"
   ]
  },
  {
   "cell_type": "markdown",
   "metadata": {},
   "source": [
    "##### B.5.1 기타 팁"
   ]
  },
  {
   "cell_type": "markdown",
   "metadata": {},
   "source": [
    "* 현재 터미널(컨테이너)의 기본은 python3"
   ]
  },
  {
   "cell_type": "markdown",
   "metadata": {},
   "source": [
    "* python2로 바꾸려면"
   ]
  },
  {
   "cell_type": "code",
   "execution_count": null,
   "metadata": {
    "collapsed": true
   },
   "outputs": [],
   "source": [
    "source activate python2"
   ]
  },
  {
   "cell_type": "markdown",
   "metadata": {},
   "source": [
    "#### B.6 TensorFlow 설치 (터미널로 접속해서)"
   ]
  },
  {
   "cell_type": "markdown",
   "metadata": {},
   "source": [
    "* B.5에서 생성한 터미널로 접속해서 설치해보자.\n",
    "* TensorFlow는 현재 python2만 지원한다. 아래 명령을 통해 현재 터미널의 환경을 python2로 바꾼다.\n",
    "    - source activate python2 \n",
    "* 그리고 아래 명령으로 설치"
   ]
  },
  {
   "cell_type": "code",
   "execution_count": null,
   "metadata": {
    "collapsed": true
   },
   "outputs": [],
   "source": [
    "# 우선 이 실습에는 CPU버전으로 설치했음.\n",
    "# For CPU-only version\n",
    "pip install https://storage.googleapis.com/tensorflow/linux/cpu/tensorflow-0.5.0-cp27-none-linux_x86_64.whl"
   ]
  },
  {
   "cell_type": "markdown",
   "metadata": {},
   "source": [
    "#### 잘 되는지 확인"
   ]
  },
  {
   "cell_type": "code",
   "execution_count": 1,
   "metadata": {
    "collapsed": true
   },
   "outputs": [],
   "source": [
    "import tensorflow as tf"
   ]
  },
  {
   "cell_type": "code",
   "execution_count": 2,
   "metadata": {
    "collapsed": true
   },
   "outputs": [],
   "source": [
    "hello = tf.constant('Hello, TensorFlow!')"
   ]
  },
  {
   "cell_type": "code",
   "execution_count": 3,
   "metadata": {
    "collapsed": true
   },
   "outputs": [],
   "source": [
    "sess = tf.Session()"
   ]
  },
  {
   "cell_type": "code",
   "execution_count": 4,
   "metadata": {
    "collapsed": false
   },
   "outputs": [
    {
     "name": "stdout",
     "output_type": "stream",
     "text": [
      "Hello, TensorFlow!\n"
     ]
    }
   ],
   "source": [
    "print sess.run(hello)"
   ]
  },
  {
   "cell_type": "code",
   "execution_count": 5,
   "metadata": {
    "collapsed": true
   },
   "outputs": [],
   "source": [
    "a = tf.constant(10)"
   ]
  },
  {
   "cell_type": "code",
   "execution_count": 6,
   "metadata": {
    "collapsed": true
   },
   "outputs": [],
   "source": [
    "b = tf.constant(32)"
   ]
  },
  {
   "cell_type": "code",
   "execution_count": 7,
   "metadata": {
    "collapsed": false
   },
   "outputs": [
    {
     "name": "stdout",
     "output_type": "stream",
     "text": [
      "42\n"
     ]
    }
   ],
   "source": [
    "print sess.run(a+b)"
   ]
  },
  {
   "cell_type": "markdown",
   "metadata": {},
   "source": [
    "# 2. Gradient Descent 기법으로 인자 찾아내기 [2]"
   ]
  },
  {
   "cell_type": "code",
   "execution_count": 9,
   "metadata": {
    "collapsed": false
   },
   "outputs": [
    {
     "name": "stdout",
     "output_type": "stream",
     "text": [
      "0 [[ 0.27643239  0.36131659]] [ 0.26451457]\n",
      "20 [[ 0.14200236  0.23738803]] [ 0.25676781]\n",
      "40 [[ 0.11392146  0.21276298]] [ 0.28545848]\n",
      "60 [[ 0.10464165  0.20432769]] [ 0.29511032]\n",
      "80 [[ 0.10155293  0.2014619 ]] [ 0.29835609]\n",
      "100 [[ 0.10052061  0.20049278]] [ 0.29944736]\n",
      "120 [[ 0.10017474  0.20016593]] [ 0.29981422]\n",
      "140 [[ 0.1000587   0.20005584]] [ 0.29993755]\n",
      "160 [[ 0.10001972  0.20001879]] [ 0.299979]\n",
      "180 [[ 0.10000662  0.20000631]] [ 0.29999292]\n",
      "200 [[ 0.10000221  0.20000212]] [ 0.29999763]\n"
     ]
    }
   ],
   "source": [
    "import tensorflow as tf\n",
    "import numpy as np\n",
    "\n",
    "# Numpy 랜덤으로 100개의 가짜 데이터 채우기. (float64 -> float32로 변환)\n",
    "x_data = np.float32(np.random.rand(2, 100)) # Random input\n",
    "# 학습 레이블(목표값) 계산\n",
    "y_data = np.dot([0.100, 0.200], x_data) + 0.300\n",
    "\n",
    "# 선형 모델 만들기.\n",
    "b = tf.Variable(tf.zeros([1]))\n",
    "# 1x2 형태의 웨이트 변수\n",
    "W = tf.Variable(tf.random_uniform([1, 2], -1.0, 1.0))\n",
    "y = tf.matmul(W, x_data) + b\n",
    "\n",
    "# 로스 함수 정의\n",
    "loss = tf.reduce_mean(tf.square(y - y_data))\n",
    "# 그래디언트 디센트 방법으로 로스 함수를 최소화\n",
    "optimizer = tf.train.GradientDescentOptimizer(0.5)\n",
    "train = optimizer.minimize(loss)\n",
    "\n",
    "# 모든 변수를 초기화.\n",
    "init = tf.initialize_all_variables()\n",
    "\n",
    "# 세션 시작\n",
    "sess = tf.Session()\n",
    "sess.run(init)\n",
    "\n",
    "# 200번 학습.\n",
    "for step in xrange(0, 201):\n",
    "    sess.run(train)\n",
    "    if step % 20 == 0:\n",
    "        print step, sess.run(W), sess.run(b)\n",
    "\n",
    "# Learns best fit is W: [[0.100  0.200]], b: [0.300]"
   ]
  },
  {
   "cell_type": "markdown",
   "metadata": {},
   "source": [
    "# 3. Basic Usage"
   ]
  },
  {
   "cell_type": "markdown",
   "metadata": {},
   "source": [
    "* Overview\n",
    "* The computation graph\n",
    "* Interactive Usage\n",
    "* Tensors\n",
    "* Variables\n",
    "* Fetches\n",
    "* Feeds"
   ]
  },
  {
   "cell_type": "markdown",
   "metadata": {},
   "source": [
    "To use TensorFlow you need to understand how TensorFlow:\n",
    "\n",
    "* Represents computations as graphs.\n",
    "* Executes graphs in the context of Sessions.\n",
    "* Represents data as tensors.\n",
    "* Maintains state with Variables.\n",
    "* Uses feeds and fetches to get data into and out of arbitrary operations."
   ]
  },
  {
   "cell_type": "markdown",
   "metadata": {},
   "source": [
    "## Overview"
   ]
  },
  {
   "cell_type": "markdown",
   "metadata": {},
   "source": [
    "* <font color=\"red\">graphs</font> \n",
    "    - TensorFlow is a programming system in which you represent computations as graphs. \n",
    "* <font color=\"red\">ops</font> = nodes \n",
    "    - nodes in the graph are called ops (short for operations). \n",
    "* <font color=\"red\">tensor</font>\n",
    "    - A Tensor is a typed multi-dimensional array. \n",
    "        - For example, you can represent a mini-batch of images as a 4-D array of floating point numbers with dimensions <font color=\"red\">[batch, height, width, channels]</font>.\n",
    "* <font color=\"red\">session</font>\n",
    "    - A TensorFlow graph is a description of computations. \n",
    "    - To compute anything, a graph must be launched in a Session. \n",
    "    - A Session \n",
    "        - places the graph ops \n",
    "            - onto Devices, \n",
    "                - such as CPUs or GPUs, and \n",
    "        - provides methods to execute them. \n",
    "            - These methods return tensors produced by ops \n",
    "                - as numpy ndarray objects in Python, and \n",
    "                - as tensorflow::Tensor instances in C and C++."
   ]
  },
  {
   "cell_type": "markdown",
   "metadata": {},
   "source": [
    "<img src=\"http://www.tensorflow.org/tutorials/mnist/tf/mnist_subgraph.png\" />"
   ]
  },
  {
   "cell_type": "markdown",
   "metadata": {},
   "source": [
    "## The computation graph"
   ]
  },
  {
   "cell_type": "markdown",
   "metadata": {},
   "source": [
    "* Building the graph\n",
    "* Launching the graph in a session"
   ]
  },
  {
   "cell_type": "markdown",
   "metadata": {},
   "source": [
    "TensorFlow programs are usually structured into \n",
    "\n",
    "* a construction phase, \n",
    "    - that assembles a graph, and\n",
    "* an execution phase \n",
    "    - that uses a session to execute ops in the graph."
   ]
  },
  {
   "cell_type": "markdown",
   "metadata": {},
   "source": [
    "###  Building the graph"
   ]
  },
  {
   "cell_type": "markdown",
   "metadata": {},
   "source": [
    "* To build a graph start with ops \n",
    "    - that do not need any input (source ops), \n",
    "        - such as Constant, \n",
    "    - and pass their output \n",
    "        - to other ops that do computation.\n",
    "* The TensorFlow Python library has \n",
    "    - a default graph \n",
    "        - to which ops constructors add nodes. \n",
    "    - The default graph is sufficient for many applications. \n",
    "* The default graph now has three nodes: \n",
    "    - two constant() ops and \n",
    "    - one matmul() op. \n",
    "    - To actually multiply the matrices, and get the result of the multiplication, \n",
    "    - you must launch the graph in a session."
   ]
  },
  {
   "cell_type": "code",
   "execution_count": 10,
   "metadata": {
    "collapsed": true
   },
   "outputs": [],
   "source": [
    "import tensorflow as tf\n",
    "\n",
    "# Create a Constant op that produces a 1x2 matrix.  The op is\n",
    "# added as a node to the default graph.\n",
    "#\n",
    "# The value returned by the constructor represents the output\n",
    "# of the Constant op.\n",
    "matrix1 = tf.constant([[3., 3.]])\n",
    "\n",
    "# Create another Constant that produces a 2x1 matrix.\n",
    "matrix2 = tf.constant([[2.],[2.]])\n",
    "\n",
    "# Create a Matmul op that takes 'matrix1' and 'matrix2' as inputs.\n",
    "# The returned value, 'product', represents the result of the matrix\n",
    "# multiplication.\n",
    "product = tf.matmul(matrix1, matrix2)"
   ]
  },
  {
   "cell_type": "markdown",
   "metadata": {},
   "source": [
    "### Launching the graph in a session"
   ]
  },
  {
   "cell_type": "markdown",
   "metadata": {},
   "source": [
    "To launch a graph, create a Session object. Without arguments the session constructor launches the default graph."
   ]
  },
  {
   "cell_type": "code",
   "execution_count": 11,
   "metadata": {
    "collapsed": false
   },
   "outputs": [
    {
     "name": "stdout",
     "output_type": "stream",
     "text": [
      "[[ 12.]]\n"
     ]
    }
   ],
   "source": [
    "# Launch the default graph.\n",
    "sess = tf.Session()\n",
    "\n",
    "# To run the matmul op we call the session 'run()' method, passing 'product'\n",
    "# which represents the output of the matmul op.  This indicates to the call\n",
    "# that we want to get the output of the matmul op back.\n",
    "#\n",
    "# All inputs needed by the op are run automatically by the session.  They\n",
    "# typically are run in parallel.\n",
    "#\n",
    "# The call 'run(product)' thus causes the execution of threes ops in the\n",
    "# graph: the two constants and matmul.\n",
    "#\n",
    "# The output of the op is returned in 'result' as a numpy `ndarray` object.\n",
    "result = sess.run(product)\n",
    "print result\n",
    "# ==> [[ 12.]]\n",
    "\n",
    "# Close the Session when we're done.\n",
    "sess.close()"
   ]
  },
  {
   "cell_type": "markdown",
   "metadata": {},
   "source": [
    "Sessions should be closed to release resources. You can also enter a Session with a \"with\" block. The Session closes automatically at the end of the with block."
   ]
  },
  {
   "cell_type": "code",
   "execution_count": 12,
   "metadata": {
    "collapsed": false
   },
   "outputs": [
    {
     "name": "stdout",
     "output_type": "stream",
     "text": [
      "[array([[ 12.]], dtype=float32)]\n"
     ]
    }
   ],
   "source": [
    "with tf.Session() as sess:\n",
    "  result = sess.run([product])\n",
    "  print result"
   ]
  },
  {
   "cell_type": "markdown",
   "metadata": {},
   "source": [
    "##### GPU & CPU"
   ]
  },
  {
   "cell_type": "markdown",
   "metadata": {},
   "source": [
    "* The TensorFlow implementation translates the graph definition into executable operations distributed across available compute resources, \n",
    "    - such as the CPU or one of your computer's GPU cards. \n",
    "* In general you do not have to specify CPUs or GPUs explicitly. \n",
    "* TensorFlow uses your first GPU, if you have one, for as many operations as possible."
   ]
  },
  {
   "cell_type": "markdown",
   "metadata": {},
   "source": [
    "##### with ...Device"
   ]
  },
  {
   "cell_type": "markdown",
   "metadata": {},
   "source": [
    "* If you have more than one GPU available on your machine, to use a GPU beyond the first you must assign ops to it explicitly. \n",
    "* Use <font color=\"red\">with...Device</font> statements to specify which CPU or GPU to use for operations:"
   ]
  },
  {
   "cell_type": "code",
   "execution_count": null,
   "metadata": {
    "collapsed": true
   },
   "outputs": [],
   "source": [
    "with tf.Session() as sess:\n",
    "  with tf.device(\"/gpu:1\"):\n",
    "    matrix1 = tf.constant([[3., 3.]])\n",
    "    matrix2 = tf.constant([[2.],[2.]])\n",
    "    product = tf.matmul(matrix1, matrix2)\n",
    "    ..."
   ]
  },
  {
   "cell_type": "markdown",
   "metadata": {},
   "source": [
    "Devices are specified with strings. The currently supported devices are:"
   ]
  },
  {
   "cell_type": "markdown",
   "metadata": {},
   "source": [
    "* <font color=\"red\">\"/cpu:0\"</font>: The CPU of your machine.\n",
    "* <font color=\"red\">\"/gpu:0\"</font>: The GPU of your machine, if you have one.\n",
    "* <font color=\"red\">\"/gpu:1\"</font>: The second GPU of your machine, etc"
   ]
  },
  {
   "cell_type": "markdown",
   "metadata": {},
   "source": [
    "## Interactive Usage"
   ]
  },
  {
   "cell_type": "markdown",
   "metadata": {},
   "source": [
    "This avoids having to keep a variable holding the session."
   ]
  },
  {
   "cell_type": "markdown",
   "metadata": {},
   "source": [
    "* Session \n",
    "    - Session.run()\n",
    "* For ease of use in interactive Python environments\n",
    "    - such as IPython\n",
    "    - InteractiveSession\n",
    "        - Tensor.eval()  \n",
    "        - Operation.run() "
   ]
  },
  {
   "cell_type": "code",
   "execution_count": 13,
   "metadata": {
    "collapsed": false
   },
   "outputs": [
    {
     "name": "stdout",
     "output_type": "stream",
     "text": [
      "[-2. -1.]\n"
     ]
    }
   ],
   "source": [
    "# Enter an interactive TensorFlow Session.\n",
    "import tensorflow as tf\n",
    "sess = tf.InteractiveSession()\n",
    "\n",
    "x = tf.Variable([1.0, 2.0])\n",
    "a = tf.constant([3.0, 3.0])\n",
    "\n",
    "# Initialize 'x' using the run() method of its initializer op.\n",
    "x.initializer.run()\n",
    "\n",
    "# Add an op to subtract 'a' from 'x'.  Run it and print the result\n",
    "sub = tf.sub(x, a)\n",
    "print sub.eval()\n",
    "# ==> [-2. -1.]"
   ]
  },
  {
   "cell_type": "markdown",
   "metadata": {},
   "source": [
    "## Tensors"
   ]
  },
  {
   "cell_type": "markdown",
   "metadata": {},
   "source": [
    "* TensorFlow programs use a tensor data structure to represent all data \n",
    "    - only tensors are passed between operations in the computation graph. \n",
    "* You can think of a TensorFlow tensor as an n-dimensional array or list. \n",
    "* A tensor has \n",
    "    - a static type, \n",
    "    - a rank, and \n",
    "    - a shape."
   ]
  },
  {
   "cell_type": "markdown",
   "metadata": {},
   "source": [
    "## Variables"
   ]
  },
  {
   "cell_type": "markdown",
   "metadata": {},
   "source": [
    "* Variables maintain state across executions of the graph. \n",
    "* The following example shows a variable serving as a simple counter. \n",
    "* The assign() operation in this code is \n",
    "    - a part of the expression graph just like the add() operation, \n",
    "    - so it does not actually perform the assignment\n",
    "    - until run() executes the expression.\n",
    "* You typically represent the parameters of a statistical model as a set of Variables. \n",
    "    - For example, \n",
    "        - you would store the weights for a neural network as a tensor in a Variable. \n",
    "        - During training \n",
    "            - you update this tensor \n",
    "                - by running a training graph repeatedly"
   ]
  },
  {
   "cell_type": "code",
   "execution_count": 14,
   "metadata": {
    "collapsed": false
   },
   "outputs": [
    {
     "name": "stdout",
     "output_type": "stream",
     "text": [
      "0\n",
      "1\n",
      "2\n",
      "3\n"
     ]
    },
    {
     "name": "stderr",
     "output_type": "stream",
     "text": [
      "Exception AssertionError: AssertionError() in <bound method InteractiveSession.__del__ of <tensorflow.python.client.session.InteractiveSession object at 0x7f959e6360d0>> ignored\n"
     ]
    }
   ],
   "source": [
    "# Create a Variable, that will be initialized to the scalar value 0.\n",
    "state = tf.Variable(0, name=\"counter\")\n",
    "\n",
    "# Create an Op to add one to `state`.\n",
    "\n",
    "one = tf.constant(1)\n",
    "new_value = tf.add(state, one)\n",
    "update = tf.assign(state, new_value)\n",
    "\n",
    "# Variables must be initialized by running an `init` Op after having\n",
    "\n",
    "# launched the graph.  We first have to add the `init` Op to the graph.\n",
    "init_op = tf.initialize_all_variables()\n",
    "\n",
    "# Launch the graph and run the ops.\n",
    "with tf.Session() as sess:\n",
    "  # Run the 'init' op\n",
    "  sess.run(init_op)\n",
    "  # Print the initial value of 'state'\n",
    "  print sess.run(state)\n",
    "  # Run the op that updates 'state' and print 'state'.\n",
    "  for _ in range(3):\n",
    "    sess.run(update)\n",
    "    print sess.run(state)\n",
    "\n",
    "# output:\n",
    "\n",
    "# 0\n",
    "# 1\n",
    "# 2\n",
    "# 3"
   ]
  },
  {
   "cell_type": "markdown",
   "metadata": {},
   "source": [
    "## Fetches"
   ]
  },
  {
   "cell_type": "markdown",
   "metadata": {},
   "source": [
    "* To fetch the outputs of operations, \n",
    "    - execute the graph with a <font color=\"red\">run()</font> call \n",
    "        - on the <font color=\"red\">Session object</font> and \n",
    "        - pass in the tensors to retrieve. "
   ]
  },
  {
   "cell_type": "code",
   "execution_count": 15,
   "metadata": {
    "collapsed": false
   },
   "outputs": [
    {
     "name": "stdout",
     "output_type": "stream",
     "text": [
      "[21.0, 7.0]\n"
     ]
    }
   ],
   "source": [
    "input1 = tf.constant(3.0)\n",
    "input2 = tf.constant(2.0)\n",
    "input3 = tf.constant(5.0)\n",
    "intermed = tf.add(input2, input3)\n",
    "mul = tf.mul(input1, intermed)\n",
    "\n",
    "with tf.Session() as sess:\n",
    "  result = sess.run([mul, intermed])\n",
    "  print result\n",
    "\n",
    "# output:\n",
    "# [array([ 21.], dtype=float32), array([ 7.], dtype=float32)]"
   ]
  },
  {
   "cell_type": "markdown",
   "metadata": {},
   "source": [
    "## Feeds"
   ]
  },
  {
   "cell_type": "markdown",
   "metadata": {},
   "source": [
    "* TensorFlow also provides a <font color=\"red\">feed mechanism</font> <font color=\"blue\">for patching a tensor directly into any operation</font> in the graph.\n",
    "    - e.g.) constant, variables (x) -> palceholder\n",
    "* <font color=\"red\">A feed temporarily replaces the output of an operation with a tensor value</font>. \n",
    "    - You supply feed data as an argument to a run() call. \n",
    "    - The feed is only used for the run call to which it is passed.\n",
    "    - The most common use case involves designating specific operations to be \"feed\" operations by <font color=\"red\">using tf.placeholder()</font> to create them:\n",
    "        - A placeholder() operation generates an error if you do not supply a feed for it."
   ]
  },
  {
   "cell_type": "code",
   "execution_count": 16,
   "metadata": {
    "collapsed": false
   },
   "outputs": [
    {
     "name": "stdout",
     "output_type": "stream",
     "text": [
      "[array([ 14.], dtype=float32)]\n"
     ]
    }
   ],
   "source": [
    "input1 = tf.placeholder(tf.types.float32)\n",
    "input2 = tf.placeholder(tf.types.float32)\n",
    "output = tf.mul(input1, input2)\n",
    "\n",
    "with tf.Session() as sess:\n",
    "  print sess.run([output], feed_dict={input1:[7.], input2:[2.]})\n",
    "\n",
    "# output:\n",
    "# [array([ 14.], dtype=float32)]"
   ]
  },
  {
   "cell_type": "markdown",
   "metadata": {},
   "source": [
    "# 참고자료"
   ]
  },
  {
   "cell_type": "markdown",
   "metadata": {},
   "source": [
    "* [1] http://www.tensorflow.org/\n",
    "* [2] 텐서플로 시작하기 - https://gist.github.com/haje01/202ac276bace4b25dd3f\n",
    "* [3] Basic Usage -  http://www.tensorflow.org/get_started/basic_usage.html#basic-usage"
   ]
  }
 ],
 "metadata": {
  "kernelspec": {
   "display_name": "Python 2",
   "language": "python",
   "name": "python2"
  },
  "language_info": {
   "codemirror_mode": {
    "name": "ipython",
    "version": 2
   },
   "file_extension": ".py",
   "mimetype": "text/x-python",
   "name": "python",
   "nbconvert_exporter": "python",
   "pygments_lexer": "ipython2",
   "version": "2.7.10"
  }
 },
 "nbformat": 4,
 "nbformat_minor": 0
}
