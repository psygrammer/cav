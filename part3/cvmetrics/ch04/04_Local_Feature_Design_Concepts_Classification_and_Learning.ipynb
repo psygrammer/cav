{
 "cells": [
  {
   "cell_type": "markdown",
   "metadata": {},
   "source": [
    "# Chapter 4. Local Feature Design Concepts, Classification, and Learning"
   ]
  },
  {
   "cell_type": "markdown",
   "metadata": {},
   "source": [
    "* 싸이그래머 / 지각CV : part 3 - cvmetrics [1]\n",
    "* 김무성"
   ]
  },
  {
   "cell_type": "markdown",
   "metadata": {},
   "source": [
    "# Contents"
   ]
  },
  {
   "cell_type": "markdown",
   "metadata": {},
   "source": [
    "* Local Features\n",
    "* Local Feature Attributes\n",
    "* Distance Functions\n",
    "* Descriptor Representation\n",
    "* Descriptor Density\n",
    "* Descriptor Shape Topologies\n",
    "* Local Binary Descriptor Point-Pair Patterns\n",
    "* Descriptor Discrimination\n",
    "* Search Strategies and Optimizations\n",
    "* Computer Vision, Models, Organization\n",
    "* Learned Features"
   ]
  },
  {
   "cell_type": "markdown",
   "metadata": {},
   "source": [
    "<img src=\"figures/fig4.1.png\" width=600 />"
   ]
  },
  {
   "cell_type": "markdown",
   "metadata": {},
   "source": [
    "# Local Features"
   ]
  },
  {
   "cell_type": "markdown",
   "metadata": {},
   "source": [
    "* Detectors, Interest Points, Keypoints, Anchor Points, Landmarks\n",
    "* Descriptors, Feature Description, Feature Extraction\n",
    "* Sparse Local Pattern Methods"
   ]
  },
  {
   "cell_type": "markdown",
   "metadata": {},
   "source": [
    "# Local Feature Attributes"
   ]
  },
  {
   "cell_type": "markdown",
   "metadata": {},
   "source": [
    "* Choosing Feature Descriptors and Interest Points\n",
    "* Feature Descriptors and Feature Matching\n",
    "* Criteria for Goodness\n",
    "* Repeatability, Easy vs. Hard to Find\n",
    "* Distinctive vs. Indistinctive\n",
    "* Relative and Absolute Position\n",
    "* Matching Cost and Correspondence"
   ]
  },
  {
   "cell_type": "markdown",
   "metadata": {},
   "source": [
    "<img src=\"figures/tbl4.1_1.png\" width=600 />\n",
    "<img src=\"figures/tbl4.1_2.png\" width=600 />"
   ]
  },
  {
   "cell_type": "markdown",
   "metadata": {},
   "source": [
    "<img src=\"figures/fig4.2.png\" width=600 />"
   ]
  },
  {
   "cell_type": "markdown",
   "metadata": {},
   "source": [
    "# Distance Functions"
   ]
  },
  {
   "cell_type": "markdown",
   "metadata": {},
   "source": [
    "* Early Work on Distance Functions\n",
    "* Euclidean or Cartesian Distance Metrics\n",
    "    - Euclidean Distance\n",
    "    - Squared Euclidean Distance\n",
    "    - Cosine Distance or Similarity\n",
    "    - Sum of Absolute Differences (SAD) or L1 Norm\n",
    "    - Sum of Squared Differences (SSD) or L2 Norm\n",
    "    - Correlation Distance\n",
    "    - Hellinger Distance\n",
    "* Grid Distance Metrics\n",
    "    - Manhattan Distance\n",
    "    - Chebyshev Distance\n",
    "* Statistical Difference Metrics\n",
    "    - Earth Movers Distance (EMD) or Wasserstein Metric\n",
    "    - Mahalanobis Distance\n",
    "    - Bray Curtis Distance\n",
    "    - Canberra Distance\n",
    "* Binary or Boolean Distance Metrics\n",
    "    - L0 Norm\n",
    "    - Hamming Distance\n",
    "    - Jaccard Similarity and Dissimilarity"
   ]
  },
  {
   "cell_type": "markdown",
   "metadata": {},
   "source": [
    "<img src=\"figures/fig4.3.png\" width=600 />"
   ]
  },
  {
   "cell_type": "markdown",
   "metadata": {},
   "source": [
    "# Descriptor Representation"
   ]
  },
  {
   "cell_type": "markdown",
   "metadata": {},
   "source": [
    "* Coordinate Spaces, Complex Spaces\n",
    "* Cartesian Coordinates\n",
    "* Polar and Log Polar Coordinates\n",
    "* Radial Coordinates\n",
    "* Spherical Coordinates\n",
    "* Gauge Coordinates\n",
    "* Multivariate Spaces, Multimodal Data\n",
    "* Feature Pyramids"
   ]
  },
  {
   "cell_type": "markdown",
   "metadata": {},
   "source": [
    "<img src=\"figures/fig4.4.png\" width=600 />"
   ]
  },
  {
   "cell_type": "markdown",
   "metadata": {},
   "source": [
    "<img src=\"figures/fig4.5.png\" width=600 />"
   ]
  },
  {
   "cell_type": "markdown",
   "metadata": {},
   "source": [
    "# Descriptor Density"
   ]
  },
  {
   "cell_type": "markdown",
   "metadata": {},
   "source": [
    "* Interest Point and Descriptor Culling\n",
    "* Dense vs. Sparse Feature Description"
   ]
  },
  {
   "cell_type": "markdown",
   "metadata": {},
   "source": [
    "<img src=\"figures/tbl4.2.png\" width=600 />"
   ]
  },
  {
   "cell_type": "markdown",
   "metadata": {},
   "source": [
    "# Descriptor Shape Topologies"
   ]
  },
  {
   "cell_type": "markdown",
   "metadata": {},
   "source": [
    "* Correlation Templates\n",
    "* Patches and Shape\n",
    "    - Single Patches, Sub-Patches\n",
    "    - Deformable Patches\n",
    "    - Multi-Patch Sets\n",
    "        - TPLBP, FPLBP\n",
    "    - Strip and Radial Fan Shapes\n",
    "        - D-NETS Strip Patterns\n",
    "    - Object Polygon Shapes\n",
    "        - Morphological Boundary Shapes\n",
    "        - Texture Structure Shapes\n",
    "        - Super-Pixel Similarity Shapes"
   ]
  },
  {
   "cell_type": "markdown",
   "metadata": {},
   "source": [
    "<img src=\"figures/fig4.6.png\" width=600 />"
   ]
  },
  {
   "cell_type": "markdown",
   "metadata": {},
   "source": [
    "<img src=\"figures/fig4.7.png\" width=600 />"
   ]
  },
  {
   "cell_type": "markdown",
   "metadata": {},
   "source": [
    "# Local Binary Descriptor Point-Pair Patterns"
   ]
  },
  {
   "cell_type": "markdown",
   "metadata": {},
   "source": [
    "* FREAK Retinal Patterns\n",
    "* Brisk Patterns\n",
    "* ORB and BRIEF Patterns"
   ]
  },
  {
   "cell_type": "markdown",
   "metadata": {},
   "source": [
    "<img src=\"figures/fig4.8.png\" width=600 />"
   ]
  },
  {
   "cell_type": "markdown",
   "metadata": {},
   "source": [
    "<img src=\"figures/fig4.9.png\" width=600 />"
   ]
  },
  {
   "cell_type": "markdown",
   "metadata": {},
   "source": [
    "<img src=\"figures/fig4.10.png\" width=600 />"
   ]
  },
  {
   "cell_type": "markdown",
   "metadata": {},
   "source": [
    "<img src=\"figures/fig4.11.png\" width=600 />"
   ]
  },
  {
   "cell_type": "markdown",
   "metadata": {},
   "source": [
    "# Descriptor Discrimination"
   ]
  },
  {
   "cell_type": "markdown",
   "metadata": {},
   "source": [
    "* Spectra Discrimination\n",
    "* Region, Shapes, and Pattern Discrimination\n",
    "* Geometric Discrimination Factors\n",
    "* Feature Visualization to Evaluate Discrimination\n",
    "    - Discrimination via Image Reconstruction from HOG\n",
    "    - Discrimination via Image Reconstruction from Local Binary Patterns\n",
    "    - Discrimination via Image Reconstruction from SIFT Features\n",
    "* Accuracy, Trackability\n",
    "* Accuracy Optimizations, Sub-Region Overlap, Gaussian Weighting, and Pooling\n",
    "* Sub-Pixel Accuracy"
   ]
  },
  {
   "cell_type": "markdown",
   "metadata": {},
   "source": [
    "<img src=\"figures/fig4.12.png\" width=600 />"
   ]
  },
  {
   "cell_type": "markdown",
   "metadata": {},
   "source": [
    "<img src=\"figures/fig4.13.png\" width=600 />"
   ]
  },
  {
   "cell_type": "markdown",
   "metadata": {},
   "source": [
    "<img src=\"figures/fig4.14.png\" width=600 />"
   ]
  },
  {
   "cell_type": "markdown",
   "metadata": {},
   "source": [
    "<img src=\"figures/fig4.15.png\" width=600 />"
   ]
  },
  {
   "cell_type": "markdown",
   "metadata": {},
   "source": [
    "# Search Strategies and Optimizations"
   ]
  },
  {
   "cell_type": "markdown",
   "metadata": {},
   "source": [
    "* Dense Search\n",
    "* Grid Search\n",
    "* Multi-Scale Pyramid Search\n",
    "* Scale Space and Image Pyramids\n",
    "* Feature Pyramids\n",
    "* Sparse Predictive Search and Tracking\n",
    "* Tracking Region-Limited Search\n",
    "* Segmentation Limited Search"
   ]
  },
  {
   "cell_type": "markdown",
   "metadata": {},
   "source": [
    "<img src=\"figures/fig4.16.png\" width=600 />"
   ]
  },
  {
   "cell_type": "markdown",
   "metadata": {},
   "source": [
    "<img src=\"figures/fig4.17.png\" width=600 />"
   ]
  },
  {
   "cell_type": "markdown",
   "metadata": {},
   "source": [
    "<img src=\"figures/fig4.18.png\" width=600 />"
   ]
  },
  {
   "cell_type": "markdown",
   "metadata": {},
   "source": [
    "<img src=\"figures/tbl4.3.png\" width=600 />"
   ]
  },
  {
   "cell_type": "markdown",
   "metadata": {},
   "source": [
    "<img src=\"figures/fig4.19.png\" width=600 />"
   ]
  },
  {
   "cell_type": "markdown",
   "metadata": {},
   "source": [
    "# Computer Vision, Models, Organization"
   ]
  },
  {
   "cell_type": "markdown",
   "metadata": {},
   "source": [
    "* Feature Space\n",
    "* Object Models\n",
    "* Constraints\n",
    "* Selection of Detectors and Features\n",
    "    - Manually Designed Feature Detectors\n",
    "    - Statistically Designed Feature Detectors"
   ]
  },
  {
   "cell_type": "markdown",
   "metadata": {},
   "source": [
    "<img src=\"figures/fig4.20.png\" width=600 />"
   ]
  },
  {
   "cell_type": "markdown",
   "metadata": {},
   "source": [
    "# Learned Features"
   ]
  },
  {
   "cell_type": "markdown",
   "metadata": {},
   "source": [
    "* Overview of Training\n",
    "* Classification of Features and Objects\n",
    "    - Group Distance: Clustering, Training, and Statistical Learning\n",
    "    - Group Distance: Clustering Methods Survey, KNN, RANSAC,K-Means, GMM, SVM, Others\n",
    "* Classification Frameworks, REIN, MOPED\n",
    "    - Kernel Machines\n",
    "    - Boosting, Weighting\n",
    "    - Selected Examples of Classification\n",
    "* Feature Learning, Sparse Coding, Convolutional Networks\n",
    "    - Terminology: Codebooks, Visual Vocabulary, Bag of Words,Bag of Features\n",
    "    - Sparse Coding\n",
    "    - Visual Vocabularies\n",
    "    - Learned Detectors via Convolutional Filter Masks\n",
    "    - Convolutional Neural Networks, Neural Networks\n",
    "    - Deep Learning, Pooling, Trainable Feature Hierarchies"
   ]
  },
  {
   "cell_type": "markdown",
   "metadata": {},
   "source": [
    "<img src=\"figures/tbl4.4_!.png\" width=600 />\n",
    "<img src=\"figures/tbl4.4_2.png\" width=600 />\n",
    "<img src=\"figures/tbl4.4_3.png\" width=600 />"
   ]
  },
  {
   "cell_type": "markdown",
   "metadata": {},
   "source": [
    "<img src=\"figures/tbl4.5.png\" width=600 />"
   ]
  },
  {
   "cell_type": "markdown",
   "metadata": {},
   "source": [
    "<img src=\"figures/fig4.21.png\" width=600 />"
   ]
  },
  {
   "cell_type": "markdown",
   "metadata": {},
   "source": [
    "<img src=\"figures/fig4.22.png\" width=600 />"
   ]
  },
  {
   "cell_type": "markdown",
   "metadata": {},
   "source": [
    "<img src=\"figures/fig4.23.png\" width=600 />"
   ]
  },
  {
   "cell_type": "markdown",
   "metadata": {},
   "source": [
    "# 참고자료"
   ]
  },
  {
   "cell_type": "markdown",
   "metadata": {},
   "source": [
    "* [1] Computer Vision Metrics: Survey, Taxonomy, and Analysis - http://www.amazon.com/Computer-Vision-Metrics-Taxonomy-Analysis/dp/1430259299/"
   ]
  }
 ],
 "metadata": {
  "kernelspec": {
   "display_name": "Python 2",
   "language": "python",
   "name": "python2"
  },
  "language_info": {
   "codemirror_mode": {
    "name": "ipython",
    "version": 2
   },
   "file_extension": ".py",
   "mimetype": "text/x-python",
   "name": "python",
   "nbconvert_exporter": "python",
   "pygments_lexer": "ipython2",
   "version": "2.7.10"
  }
 },
 "nbformat": 4,
 "nbformat_minor": 0
}
