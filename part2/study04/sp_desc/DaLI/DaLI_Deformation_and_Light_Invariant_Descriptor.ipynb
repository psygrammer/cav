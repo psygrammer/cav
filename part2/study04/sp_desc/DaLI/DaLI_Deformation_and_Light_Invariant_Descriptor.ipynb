{
 "cells": [
  {
   "cell_type": "markdown",
   "metadata": {},
   "source": [
    "# DaLI: Deformation and Light Invariant Descriptor "
   ]
  },
  {
   "cell_type": "markdown",
   "metadata": {},
   "source": [
    "* Edgar Simo-Serra's paper (1)\n",
    "* 김무성"
   ]
  },
  {
   "cell_type": "markdown",
   "metadata": {},
   "source": [
    "# Contents"
   ]
  },
  {
   "cell_type": "markdown",
   "metadata": {},
   "source": [
    "* Abstract\n",
    "* 1 Introduction\n",
    "* 2 Related Work\n",
    "* 3 Deformation and Light Invariant Descriptor\n",
    "    - 3.1 Invariance to Non-Rigid Deformations\n",
    "    - 3.2 Invariance to Illumination Changes\n",
    "    - 3.3 Handling In-Plane Rotation\n",
    "    - 3.4 Implementation Details\n",
    "        - 3.4.1 Geometry of the embedding\n",
    "        - 3.4.2 Discretization of the Laplace-Beltrami operator\n",
    "* 4 Deformation and Varying Illumination Dataset\n",
    "    - 4.1 Deformation and Illumination Conditions\n",
    "    - 4.2 Manual Annotations\n",
    "    - 4.3 Evaluation Criteria\n",
    "* 5 Experimental Results\n",
    "    - 5.1 Choosing Descriptor’s Parameters\n",
    "    - 5.2 Compression with PCA\n",
    "    - 5.3 Comparison with Other Approaches\n",
    "    - 5.4 Descriptor Size Performance\n",
    "    - 5.5 Benefits of Intensity Normalization\n",
    "    - 5.6 Evaluation on Real World Sequences\n",
    "* 6 Discussion and Conclusions"
   ]
  },
  {
   "cell_type": "markdown",
   "metadata": {},
   "source": [
    "# Abstract"
   ]
  },
  {
   "cell_type": "markdown",
   "metadata": {},
   "source": [
    "* 3D shape analysis and recognition\n",
    "    - heat diffusion theory can be effectively used to describe \n",
    "        - local features of deforming and \n",
    "        - scaling surfaces. \n",
    "* In this paper, we show how \n",
    "    - this description can be used to \n",
    "        - characterize 2D image patches, and \n",
    "    - introduce DaLI, \n",
    "        - a novel feature point descriptor \n",
    "            - with high resilience to non-rigid image transformations and \n",
    "            - illumination changes. \n",
    "* In order to build the descriptor, \n",
    "    - 2D image \n",
    "        - patches are initially treated as 3D surfaces. \n",
    "        - Patches are then described in terms of a heat kernel signature, \n",
    "            - which captures both \n",
    "                - local and \n",
    "                - global information, \n",
    "            - and shows a high degree of invariance to non-linear image warps. \n",
    "            - In addition, \n",
    "                - by further applying a logarithmic sampling and \n",
    "                - a Fourier transform, \n",
    "                - invariance to photometric changes is achieved\n",
    "            - Finally, the descriptor is \n",
    "                - compacted by mapping it onto a low dimensional subspace \n",
    "                    - computed using Principal Component Analysis, allowing for an efficient matching.\n",
    "* A thorough experimental validation demonstrates that\n",
    "    - DaLI is significantly more \n",
    "        - discriminative and \n",
    "        - robust to \n",
    "            -illuminations changes and \n",
    "            - image transformations than state of the art descriptors, \n",
    "                - even those specifically designed to describe non-rigid deformations."
   ]
  },
  {
   "cell_type": "markdown",
   "metadata": {},
   "source": [
    "#### Keywords : \n",
    "* local image descriptors\n",
    "* diffusion equation\n",
    "* heat kernel descriptors\n",
    "* deformation\n",
    "* illumination invariance"
   ]
  },
  {
   "cell_type": "markdown",
   "metadata": {},
   "source": [
    "#  1 Introduction"
   ]
  },
  {
   "cell_type": "markdown",
   "metadata": {},
   "source": [
    "<img src=\"figures/fig1.png\" width=600 />"
   ]
  },
  {
   "cell_type": "markdown",
   "metadata": {},
   "source": [
    "* Heat Kernel Signature (HKS)\n",
    "    - In order to match points of interest under non-rigid image transformations, recent approaches propose optimizing complex objective functions that enforce global consistency in the spatial layout of all matches [12,13,24,40,41,47]. Yet, none of these approaches explicitly builds a descriptor that goes beyond invariance to affine transformations.\n",
    "    - An interesting exception is [26], that proposes embedding the image in a 3D surface and using a Geodesic Intensity Histogram (GIH) as a feature point descriptor. \n",
    "    - However, while this approach is robust to non-rigid deformations, its performance drops under light changes. \n",
    "    - This is because a GIH considers deformations as one-to-one image mappings where image pixels only change their position but not the magnitude of their intensities.\n",
    "    - To overcome the inherent limitation of using geodesic distances, we propose a novel descriptor based on the Heat Kernel Signature (HKS) recently introduced for non-rigid 3D shape recognition [16,39,44], and which besides invariance to deformation, has been demonstrated to be robust to global isotropic [7] and even affine scalings [37]. "
   ]
  },
  {
   "cell_type": "markdown",
   "metadata": {},
   "source": [
    "* Our main contribution \n",
    "    - is thus using the tools of \n",
    "        - diffusion geometry to build \n",
    "            - a descriptor for 2D image patches \n",
    "                - that is invariant to non-rigid deformations and\n",
    "                - photometric changes. \n",
    "            - To construct our descriptor \n",
    "                - we consider \n",
    "                    - an image patch P surrounding a point of interest, \n",
    "                        - as a surface in the (x, y, I(x)) space, \n",
    "                            - where (x, y) are the spatial coordinates, \n",
    "                            - I(x) is the intensity value at (x, y), \n",
    "                    - and is a parameter which is \n",
    "                        - set to a large value to favor anisotropic diffusion and \n",
    "                        - retain the gradient magnitude information. \n",
    "            - Drawing inspiration from the HKS [16,44], \n",
    "                - we then describe \n",
    "                    - each patch in terms of the heat it dissipates onto its neighborhood over\n",
    "time. \n",
    "                    - To increase robustness against 2D and intensity noise, \n",
    "                        - we use multiple such descriptors in the neighborhood of a point, \n",
    "                        - and weigh them by a Gaussian kernel."
   ]
  },
  {
   "cell_type": "markdown",
   "metadata": {},
   "source": [
    "* A preliminary version of this paper was already published in [33]. \n",
    "* In the current work, \n",
    "    - we propose alternatives to both \n",
    "        - alleviate the high cost of the heat kernel computation and \n",
    "        - to reduce the dimensionality of the descriptor. \n",
    "        - More specifically, \n",
    "            - while in [33] the 3D embedding was performed considering a mesh with a uni-\n",
    "form distribution of vertices in the (x, y) domain, \n",
    "            - here we investigate topologies with varying vertex densities.\n",
    "        - This allows \n",
    "            - reducing the effective size of the underlying mesh, \n",
    "            - and hence to speed up the DaLI computation time by a factor of over 4.\n",
    "        - In addition, we have also \n",
    "            - compacted the size of the final descriptor \n",
    "                - by a factor of 50x \n",
    "                - using a Principal Component Analysis (PCA) for dimensionality reduction.\n",
    "    - As a result, \n",
    "        - the descriptor we propose here can be \n",
    "            - computed and matched much faster when compared to [33], \n",
    "            - while preserving the discriminative power."
   ]
  },
  {
   "cell_type": "markdown",
   "metadata": {},
   "source": [
    "<img src=\"figures/fig2.png\" width=600 />"
   ]
  },
  {
   "cell_type": "markdown",
   "metadata": {},
   "source": [
    "# 2 Related Work"
   ]
  },
  {
   "cell_type": "markdown",
   "metadata": {},
   "source": [
    "# 3 Deformation and Light Invariant Descriptor"
   ]
  },
  {
   "cell_type": "markdown",
   "metadata": {},
   "source": [
    "* 3.1 Invariance to Non-Rigid Deformations\n",
    "* 3.2 Invariance to Illumination Changes\n",
    "* 3.3 Handling In-Plane Rotation\n",
    "* 3.4 Implementation Details\n",
    "* 3.4.1 Geometry of the embedding"
   ]
  },
  {
   "cell_type": "markdown",
   "metadata": {},
   "source": [
    "<img src=\"figures/fig3.png\" width=600 />"
   ]
  },
  {
   "cell_type": "markdown",
   "metadata": {},
   "source": [
    "## 3.1 Invariance to Non-Rigid Deformations"
   ]
  },
  {
   "cell_type": "markdown",
   "metadata": {},
   "source": [
    "#### mapping of the patch P to a 3D Riemannian manifold M"
   ]
  },
  {
   "cell_type": "markdown",
   "metadata": {},
   "source": [
    "<img src=\"figures/eq1.png\" />"
   ]
  },
  {
   "cell_type": "markdown",
   "metadata": {},
   "source": [
    "#### patch P based on the heat diffusion equation over the manifold M"
   ]
  },
  {
   "cell_type": "markdown",
   "metadata": {},
   "source": [
    "<img src=\"figures/cap2-1.png\" />"
   ]
  },
  {
   "cell_type": "markdown",
   "metadata": {},
   "source": [
    "<img src=\"figures/cap2-2.png\"  />"
   ]
  },
  {
   "cell_type": "markdown",
   "metadata": {},
   "source": [
    "#### The solution k(x, y, t) of the heat equation"
   ]
  },
  {
   "cell_type": "markdown",
   "metadata": {},
   "source": [
    "<img src=\"figures/eq2.png\" />"
   ]
  },
  {
   "cell_type": "markdown",
   "metadata": {},
   "source": [
    "<img src=\"figures/eq3.png\" />"
   ]
  },
  {
   "cell_type": "markdown",
   "metadata": {},
   "source": [
    "#### Deformation Invariant (DI) descriptor"
   ]
  },
  {
   "cell_type": "markdown",
   "metadata": {},
   "source": [
    "<img src=\"figures/eq4.png\" />"
   ]
  },
  {
   "cell_type": "markdown",
   "metadata": {},
   "source": [
    "## 3.2 Invariance to Illumination Changes"
   ]
  },
  {
   "cell_type": "markdown",
   "metadata": {},
   "source": [
    "<img src=\"figures/fig4.png\" width=600 />"
   ]
  },
  {
   "cell_type": "markdown",
   "metadata": {},
   "source": [
    "<img src=\"figures/eq5.png\" width=600 />"
   ]
  },
  {
   "cell_type": "markdown",
   "metadata": {},
   "source": [
    "<img src=\"figures/cap3.png\" width=600 />"
   ]
  },
  {
   "cell_type": "markdown",
   "metadata": {},
   "source": [
    "<img src=\"figures/fig5.png\" width=600 />"
   ]
  },
  {
   "cell_type": "markdown",
   "metadata": {},
   "source": [
    "## 3.3 Handling In-Plane Rotation"
   ]
  },
  {
   "cell_type": "markdown",
   "metadata": {},
   "source": [
    "<img src=\"figures/cap4.png\" width=600 />"
   ]
  },
  {
   "cell_type": "markdown",
   "metadata": {},
   "source": [
    "## 3.4 Implementation Details"
   ]
  },
  {
   "cell_type": "markdown",
   "metadata": {},
   "source": [
    "* 3.4.1 Geometry of the embedding\n",
    "* 3.4.2 Discretization of the Laplace-Beltrami operator"
   ]
  },
  {
   "cell_type": "markdown",
   "metadata": {},
   "source": [
    "### 3.4.1 Geometry of the embedding"
   ]
  },
  {
   "cell_type": "markdown",
   "metadata": {},
   "source": [
    "<img src=\"figures/fig6.png\" width=600 />"
   ]
  },
  {
   "cell_type": "markdown",
   "metadata": {},
   "source": [
    "<img src=\"figures/tbl1.png\" width=600 />"
   ]
  },
  {
   "cell_type": "markdown",
   "metadata": {},
   "source": [
    "<img src=\"figures/fig7.png\" width=600 />"
   ]
  },
  {
   "cell_type": "markdown",
   "metadata": {},
   "source": [
    "### 3.4.2 Discretization of the Laplace-Beltrami operator"
   ]
  },
  {
   "cell_type": "markdown",
   "metadata": {},
   "source": [
    "<img src=\"figures/eq6.png\" width=600 />"
   ]
  },
  {
   "cell_type": "markdown",
   "metadata": {},
   "source": [
    "<img src=\"figures/cap7.png\" width=600 />"
   ]
  },
  {
   "cell_type": "markdown",
   "metadata": {},
   "source": [
    "<img src=\"figures/tbl2.png\" width=600 />"
   ]
  },
  {
   "cell_type": "markdown",
   "metadata": {},
   "source": [
    "# 4 Deformation and Varying Illumination Dataset"
   ]
  },
  {
   "cell_type": "markdown",
   "metadata": {},
   "source": [
    "* 4.1 Deformation and Illumination Conditions\n",
    "* 4.2 Manual Annotations\n",
    "* 4.3 Evaluation Criteria"
   ]
  },
  {
   "cell_type": "markdown",
   "metadata": {},
   "source": [
    "## 4.1 Deformation and Illumination Conditions"
   ]
  },
  {
   "cell_type": "markdown",
   "metadata": {},
   "source": [
    "<img src=\"figures/fig8-1.png\" width=600 />"
   ]
  },
  {
   "cell_type": "markdown",
   "metadata": {},
   "source": [
    "<img src=\"figures/fig8-2.png\" width=600 />"
   ]
  },
  {
   "cell_type": "markdown",
   "metadata": {},
   "source": [
    "## 4.2 Manual Annotations"
   ]
  },
  {
   "cell_type": "markdown",
   "metadata": {},
   "source": [
    "## 4.3 Evaluation Criteria"
   ]
  },
  {
   "cell_type": "markdown",
   "metadata": {},
   "source": [
    "<img src=\"figures/fig9.png\" width=600 />"
   ]
  },
  {
   "cell_type": "markdown",
   "metadata": {},
   "source": [
    "<img src=\"figures/eq6-org.png\" width=600 />"
   ]
  },
  {
   "cell_type": "markdown",
   "metadata": {},
   "source": [
    "# 5 Experimental Results"
   ]
  },
  {
   "cell_type": "markdown",
   "metadata": {},
   "source": [
    "* 5.1 Choosing Descriptor’s Parameters\n",
    "* 5.2 Compression with PCA\n",
    "* 5.3 Comparison with Other Approaches\n",
    "* 5.4 Descriptor Size Performance\n",
    "* 5.5 Benefits of Intensity Normalization\n",
    "* 5.6 Evaluation on Real World Sequences"
   ]
  },
  {
   "cell_type": "markdown",
   "metadata": {},
   "source": [
    "<img src=\"figures/fig10.png\" width=600 />"
   ]
  },
  {
   "cell_type": "markdown",
   "metadata": {},
   "source": [
    "## 5.1 Choosing Descriptor’s Parameters"
   ]
  },
  {
   "cell_type": "markdown",
   "metadata": {},
   "source": [
    "## 5.2 Compression with PCA"
   ]
  },
  {
   "cell_type": "code",
   "execution_count": null,
   "metadata": {
    "collapsed": true
   },
   "outputs": [],
   "source": [
    "<img src=\"figures/fig11.png\" width=600 />\n",
    "<img src=\"figures/fig12.png\" width=600 />\n",
    "<img src=\"figures/fig13.png\" width=600 />\n",
    "<img src=\"figures/fig14-1.png\" width=600 />\n",
    "<img src=\"figures/fig14-2.png\" width=600 />\n",
    "<img src=\"figures/fig14-3.png\" width=600 />\n",
    "<img src=\"figures/fig15.png\" width=600 />\n",
    "<img src=\"figures/fig16.png\" width=600 />\n",
    "<img src=\"figures/tbl3.png\" width=600 />\n",
    "<img src=\"figures/fig17.png\" width=600 />\n",
    "<img src=\"figures/fig18.png\" width=600 />\n",
    "<img src=\"figures/tbl4.png\" width=600 />\n",
    "<img src=\"figures/tbl5.png\" width=600 />"
   ]
  },
  {
   "cell_type": "markdown",
   "metadata": {},
   "source": [
    "## 5.3 Comparison with Other Approaches"
   ]
  },
  {
   "cell_type": "markdown",
   "metadata": {},
   "source": [
    "## 5.4 Descriptor Size Performance"
   ]
  },
  {
   "cell_type": "markdown",
   "metadata": {},
   "source": [
    "## 5.5 Benefits of Intensity Normalization"
   ]
  },
  {
   "cell_type": "markdown",
   "metadata": {},
   "source": [
    "## 5.6 Evaluation on Real World Sequences"
   ]
  },
  {
   "cell_type": "markdown",
   "metadata": {},
   "source": [
    "#  6 Discussion and Conclusions"
   ]
  },
  {
   "cell_type": "markdown",
   "metadata": {},
   "source": [
    "# 참고자료"
   ]
  },
  {
   "cell_type": "markdown",
   "metadata": {},
   "source": [
    "* (1) DaLI: Deformation and Light Invariant Descriptor/  Edgar Simo-Serra, Carme Torras, Francesc Moreno-Noguer / International Journal of Computer Vision (IJCV) / 2015\n",
    "* (2) web site - http://hi.cs.waseda.ac.jp/~esimo/en/research/dali/\n",
    "* (3) github - https://github.com/bobbens/DaLI\n",
    "* (4) Laplace-Beltrami operator\n",
    "Diffusion geometry - http://webcourse.cs.technion.ac.il/236861/Winter2014-2015/ho/WCFiles/laplace_beltrami.pdf\n",
    "* (5) Geometric Computer Vision - http://webcourse.cs.technion.ac.il/236861/Winter2014-2015/en/ho_Lectures.html\n",
    "* (6)Heat Kernel Signature -  http://geometrica.saclay.inria.fr/workshops/TGDA_07_2009/workshop_files/slides/TGDA_maks.pdf\n",
    "* (7) 미분기하: manifold에서의 미분이란 - http://blog.daum.net/about_math/11221817\n",
    "* (8) 좌표 선택에 무관한 물리양: 스칼라, 벡터, 텐서 - http://blog.daum.net/about_math/11221817"
   ]
  },
  {
   "cell_type": "markdown",
   "metadata": {},
   "source": [
    "* []로 표시된 번호는 (1) 자료에서의 레퍼런스 번호."
   ]
  }
 ],
 "metadata": {
  "kernelspec": {
   "display_name": "Python 2",
   "language": "python",
   "name": "python2"
  },
  "language_info": {
   "codemirror_mode": {
    "name": "ipython",
    "version": 2
   },
   "file_extension": ".py",
   "mimetype": "text/x-python",
   "name": "python",
   "nbconvert_exporter": "python",
   "pygments_lexer": "ipython2",
   "version": "2.7.3"
  }
 },
 "nbformat": 4,
 "nbformat_minor": 0
}
