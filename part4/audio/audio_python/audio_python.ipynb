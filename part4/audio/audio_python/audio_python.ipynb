{
 "cells": [
  {
   "cell_type": "markdown",
   "metadata": {},
   "source": [
    "# 파이썬을 이용한 오디오 처리 & 음악 분석 실습 (1)"
   ]
  },
  {
   "cell_type": "markdown",
   "metadata": {},
   "source": [
    "* 지각CAV : 파트 4 - 오디오 처리 & 음악분석 [1]\n",
    "* 김무성"
   ]
  },
  {
   "cell_type": "markdown",
   "metadata": {},
   "source": [
    "# 파이썬 오디오 라이브러리 : librosa"
   ]
  },
  {
   "cell_type": "markdown",
   "metadata": {},
   "source": [
    "* [1] ibrosa - https://github.com/librosa/librosa\n",
    "* ffmpeg도 설치해야 한다."
   ]
  },
  {
   "cell_type": "markdown",
   "metadata": {},
   "source": [
    "# 파이썬을 이용한 음악 정보검색 "
   ]
  },
  {
   "cell_type": "markdown",
   "metadata": {},
   "source": [
    "* 강좌 [1] - Notes on Music Information Retrieval - http://musicinformationretrieval.com/\n",
    "* 소스 [2] - Notes on Music Information Retrieval's Github - https://github.com/stevetjoa/stanford-mir"
   ]
  },
  {
   "cell_type": "markdown",
   "metadata": {},
   "source": [
    "# 파이썬을 이용한 오디오 처리"
   ]
  },
  {
   "cell_type": "markdown",
   "metadata": {},
   "source": [
    "* Retrieving Audio\n",
    "* Reading Audio\n",
    "* Playing Audio\n",
    "* Visualizing Audio\n",
    "* Writing Audio"
   ]
  },
  {
   "cell_type": "markdown",
   "metadata": {},
   "source": [
    "### 다음 튜토리얼을 그대로.\n",
    "* [4] Introduction - 5. Using Audio in IPython - http://musicinformationretrieval.com/ipython_audio.html\n",
    "* 음악 파일들 - https://ccrma.stanford.edu/workshops/mir2014/audio/"
   ]
  },
  {
   "cell_type": "code",
   "execution_count": null,
   "metadata": {
    "collapsed": true
   },
   "outputs": [],
   "source": [
    "%matplotlib inline\n",
    "import seaborn\n",
    "import numpy, scipy, matplotlib.pyplot as plt, pandas, librosa"
   ]
  },
  {
   "cell_type": "markdown",
   "metadata": {},
   "source": [
    "## Retrieving Audio"
   ]
  },
  {
   "cell_type": "code",
   "execution_count": null,
   "metadata": {
    "collapsed": true
   },
   "outputs": [],
   "source": [
    "import urllib\n",
    "urllib.urlretrieve(\n",
    "    'http://audio.musicinformationretrieval.com/simpleLoop.wav', \n",
    "    filename='simpleLoop.wav'\n",
    ")"
   ]
  },
  {
   "cell_type": "markdown",
   "metadata": {},
   "source": [
    "## Reading Audio"
   ]
  },
  {
   "cell_type": "code",
   "execution_count": null,
   "metadata": {
    "collapsed": true
   },
   "outputs": [],
   "source": [
    "x, fs = librosa.load('simpleLoop.wav')\n",
    "print x.shape\n",
    "print fs"
   ]
  },
  {
   "cell_type": "code",
   "execution_count": null,
   "metadata": {
    "collapsed": true
   },
   "outputs": [],
   "source": [
    "plt.plot(x)"
   ]
  },
  {
   "cell_type": "markdown",
   "metadata": {},
   "source": [
    "## Playing Audio"
   ]
  },
  {
   "cell_type": "markdown",
   "metadata": {},
   "source": [
    "#### Using IPython.display.Audio, you can play a local audio file or a remote audio file:"
   ]
  },
  {
   "cell_type": "code",
   "execution_count": null,
   "metadata": {
    "collapsed": true
   },
   "outputs": [],
   "source": [
    "from IPython.display import Audio\n",
    "# load a remote WAV file\n",
    "Audio('https://ccrma.stanford.edu/workshops/mir2014/audio/CongaGroove-mono.wav')"
   ]
  },
  {
   "cell_type": "code",
   "execution_count": null,
   "metadata": {
    "collapsed": true
   },
   "outputs": [],
   "source": [
    "# load a local WAV file\n",
    "Audio('simpleLoop.wav')  "
   ]
  },
  {
   "cell_type": "code",
   "execution_count": null,
   "metadata": {
    "collapsed": true
   },
   "outputs": [],
   "source": [
    "# Audio can also accept a NumPy array:\n",
    "fs = 44100 # sampling frequency\n",
    "T = 1.5    # seconds\n",
    "t = numpy.linspace(0, T, int(T*fs), endpoint=False) # time variable\n",
    "x = numpy.sin(2*numpy.pi*440*t)                # pure sine wave at 440 Hz\n",
    "\n",
    "# load a NumPy array\n",
    "Audio(x, rate=fs)"
   ]
  },
  {
   "cell_type": "markdown",
   "metadata": {},
   "source": [
    "## Visualizing Audio"
   ]
  },
  {
   "cell_type": "code",
   "execution_count": null,
   "metadata": {
    "collapsed": true
   },
   "outputs": [],
   "source": [
    "# plot is the simplest way to plot time-domain signals:\n",
    "T = 0.001    # seconds\n",
    "fs = 44100   # sampling frequency\n",
    "t = numpy.linspace(0, T, int(T*fs), endpoint=False) # time variable\n",
    "x = numpy.sin(2*numpy.pi*3000*t)\n",
    "\n",
    "# Plot a sine wave\n",
    "plt.plot(t, x)\n",
    "plt.xlabel('Time (seconds)')"
   ]
  },
  {
   "cell_type": "code",
   "execution_count": null,
   "metadata": {
    "collapsed": true
   },
   "outputs": [],
   "source": [
    "# specgram is a Matplotlib tool for computing and displaying spectrograms.\n",
    "S, freqs, bins, im = plt.specgram(x, NFFT=1024, Fs=fs, noverlap=512)\n",
    "\n",
    "# Plot a spectrogram\n",
    "plt.xlabel('Time')\n",
    "plt.ylabel('Frequency')"
   ]
  },
  {
   "cell_type": "markdown",
   "metadata": {},
   "source": [
    "## Writing Audio"
   ]
  },
  {
   "cell_type": "code",
   "execution_count": null,
   "metadata": {
    "collapsed": true
   },
   "outputs": [],
   "source": [
    "# librosa.output.write_wav also saves a NumPy array to a WAV file. This is a bit easier to use.\n",
    "noise = 0.1*scipy.randn(44100)\n",
    "\n",
    "# Write an array to a wav file\n",
    "librosa.output.write_wav('noise2.wav', noise, 44100)\n",
    "%ls *.wav"
   ]
  },
  {
   "cell_type": "markdown",
   "metadata": {},
   "source": [
    "# 참고자료 "
   ]
  },
  {
   "cell_type": "markdown",
   "metadata": {},
   "source": [
    "* [1] Notes on Music Information Retrieval - http://musicinformationretrieval.com/\n",
    "* [2] Notes on Music Information Retrieval's Github - https://github.com/stevetjoa/stanford-mir\n",
    "* [3] librosa - https://github.com/librosa/librosa\n",
    "* [4] Introduction - 5. Using Audio in IPython - http://musicinformationretrieval.com/ipython_audio.html"
   ]
  }
 ],
 "metadata": {
  "kernelspec": {
   "display_name": "Python 2",
   "language": "python",
   "name": "python2"
  },
  "language_info": {
   "codemirror_mode": {
    "name": "ipython",
    "version": 2
   },
   "file_extension": ".py",
   "mimetype": "text/x-python",
   "name": "python",
   "nbconvert_exporter": "python",
   "pygments_lexer": "ipython2",
   "version": "2.7.10"
  }
 },
 "nbformat": 4,
 "nbformat_minor": 0
}
